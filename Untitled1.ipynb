{
 "cells": [
  {
   "cell_type": "code",
   "execution_count": 12,
   "id": "0062005f-d78d-4353-a32e-65226a1c79c4",
   "metadata": {},
   "outputs": [
    {
     "name": "stdout",
     "output_type": "stream",
     "text": [
      "Requirement already satisfied: polyscope in c:\\users\\otmanbench\\appdata\\local\\programs\\python\\python311\\lib\\site-packages (1.3.4)\n",
      "Requirement already satisfied: numpy in c:\\users\\otmanbench\\appdata\\local\\programs\\python\\python311\\lib\\site-packages (from polyscope) (1.25.2)\n",
      "Note: you may need to restart the kernel to use updated packages.\n"
     ]
    },
    {
     "name": "stderr",
     "output_type": "stream",
     "text": [
      "\n",
      "[notice] A new release of pip is available: 23.1.2 -> 24.0\n",
      "[notice] To update, run: python.exe -m pip install --upgrade pip\n"
     ]
    }
   ],
   "source": [
    "pip install -r requirements.txt"
   ]
  },
  {
   "cell_type": "markdown",
   "id": "83cacc6d-40c5-4692-a880-4e2c7227510a",
   "metadata": {},
   "source": [
    "## Skinning\n",
    "\n",
    "This notebook will allow you to learn about what computer animators use behind the scenes to create animations for movies and video games all the time, _linear blend skinning_.\n"
   ]
  },
  {
   "cell_type": "markdown",
   "id": "27c1d8c3-5ebf-49d1-b118-6ca95e5ccd1b",
   "metadata": {},
   "source": [
    "## 1. Basics\n",
    "Let's start by importing all the python packages we will be using throughout this project. This is very simply done by running the below code block."
   ]
  },
  {
   "cell_type": "code",
   "execution_count": 1,
   "id": "c6b3d6fd-f0bf-4f31-ad97-6611230376ae",
   "metadata": {},
   "outputs": [],
   "source": [
    "import igl\n",
    "import polyscope as ps\n",
    "import numpy as np\n",
    "from keyframe_animate import keyframe_animate\n",
    "\n",
    "### comment out below as they have solutions\n",
    "from scale import scale\n",
    "from scale import scale\n",
    "from translate import translate\n",
    "from rotate import rotate\n",
    "from slerp  import slerp"
   ]
  },
  {
   "cell_type": "markdown",
   "id": "5ae70e12-4639-4ddc-8e02-4b3ff3918523",
   "metadata": {},
   "source": [
    "Next we will try to read in a triangle mesh. A triangle mesh is the basic tool we use to describe a shape to a computer. It can be described with two very simple lists (or as we say in computer science, _arrays_).\n",
    "\n",
    "`X` is a list of vertex positions. These are where each of the triangle meshes points are located.\n",
    "\n",
    "`F` is a list of triangle indices. Each triangle simply contains three numbers that say which of the vertices in `X` are used to create this triangle.\n",
    "\n",
    "We can do this first on a simple triangle, below we have a simple triangle represented with a triangle mesh. `X` contains the positions of the three points, and `F` here contains which points are used in `X` to compose each triangle! Because there's only one triangle, `F` is very simple and has only one row. "
   ]
  },
  {
   "cell_type": "code",
   "execution_count": 2,
   "id": "afbc3d13-eef3-4cce-a044-6aa7bb866a8a",
   "metadata": {},
   "outputs": [],
   "source": [
    "X = [[0, 0, 0],\n",
    "    [1, 0, 0], \n",
    "    [1, 1, 0.]]\n",
    "F = [[0, 1, 2]]\n",
    "\n",
    "ps.init()\n",
    "ps.reset_camera_to_home_view()\n",
    "ps.register_surface_mesh(\"mesh\", np.array(X), np.array(F), edge_width=1)\n",
    "ps.register_point_cloud(\"vertices\", np.array(X), radius=0.05, color=[0, 0, 0])\n",
    "ps.show()\n"
   ]
  },
  {
   "cell_type": "markdown",
   "id": "770baaff-c9f3-497b-b41e-d4612b15ce27",
   "metadata": {},
   "source": [
    "For now, that annoying `ps` code is just the code we use to tell the computer to display the triangle mesh. To do this, we've made us of our installed polyscope library!\n",
    "\n",
    "While the above is super simple, we can easily extend this to extremely complicated `X` and `F` to describe complex 3D shapes. The below shows a triangle mesh of a snail, that we are reading in from the `data` directory I have provided."
   ]
  },
  {
   "cell_type": "code",
   "execution_count": 3,
   "id": "83d4f5a9-0ed6-43c7-93f2-6c10e34330a7",
   "metadata": {},
   "outputs": [],
   "source": [
    "[X, _, _, F, _, _]  = igl.read_obj(\"./data/snail.obj\")\n",
    "ps.init()\n",
    "ps.reset_camera_to_home_view()\n",
    "ps.register_surface_mesh(\"mesh\", X, F, edge_width=1)\n",
    "ps.register_point_cloud(\"vertices\", X, radius=0.001, color=[0, 0, 0])\n",
    "ps.show()"
   ]
  },
  {
   "cell_type": "markdown",
   "id": "74f6feb9-af23-4896-bae7-0a24264fc6c5",
   "metadata": {},
   "source": [
    "## 2. Scale\n"
   ]
  },
  {
   "cell_type": "code",
   "execution_count": 11,
   "id": "7a93338d-15fb-480a-a413-3cf83dc7a7e2",
   "metadata": {},
   "outputs": [
    {
     "ename": "AttributeError",
     "evalue": "module 'polyscope' has no attribute 'frame_tick'",
     "output_type": "error",
     "traceback": [
      "\u001b[1;31m---------------------------------------------------------------------------\u001b[0m",
      "\u001b[1;31mAttributeError\u001b[0m                            Traceback (most recent call last)",
      "Cell \u001b[1;32mIn[11], line 6\u001b[0m\n\u001b[0;32m      3\u001b[0m A1 \u001b[38;5;241m=\u001b[39m scale(s1)\n\u001b[0;32m      4\u001b[0m A2 \u001b[38;5;241m=\u001b[39m scale(s2)\n\u001b[1;32m----> 6\u001b[0m \u001b[43mkeyframe_animate\u001b[49m\u001b[43m(\u001b[49m\u001b[43mX\u001b[49m\u001b[43m,\u001b[49m\u001b[43m \u001b[49m\u001b[43mF\u001b[49m\u001b[43m,\u001b[49m\u001b[43m \u001b[49m\u001b[43mA1\u001b[49m\u001b[43m,\u001b[49m\u001b[43m \u001b[49m\u001b[43mA2\u001b[49m\u001b[43m,\u001b[49m\u001b[43m \u001b[49m\u001b[38;5;241;43m50\u001b[39;49m\u001b[43m)\u001b[49m\n",
      "File \u001b[1;32m~\\Desktop\\skinning\\keyframe_animate.py:17\u001b[0m, in \u001b[0;36mkeyframe_animate\u001b[1;34m(X, F, A1, A2, num_timesteps, fps)\u001b[0m\n\u001b[0;32m     15\u001b[0m V \u001b[38;5;241m=\u001b[39m linear_blend_skinning(X, W, A)\n\u001b[0;32m     16\u001b[0m ps_mesh\u001b[38;5;241m.\u001b[39mupdate_vertex_positions(V)\n\u001b[1;32m---> 17\u001b[0m \u001b[43mps\u001b[49m\u001b[38;5;241;43m.\u001b[39;49m\u001b[43mframe_tick\u001b[49m()\n\u001b[0;32m     19\u001b[0m time\u001b[38;5;241m.\u001b[39msleep(\u001b[38;5;241m1\u001b[39m\u001b[38;5;241m/\u001b[39mfps)\n",
      "\u001b[1;31mAttributeError\u001b[0m: module 'polyscope' has no attribute 'frame_tick'"
     ]
    }
   ],
   "source": [
    "s1 = [1, 1, 1]\n",
    "s2 = [3, 3, 3]\n",
    "A1 = scale(s1)\n",
    "A2 = scale(s2)\n",
    "\n",
    "keyframe_animate(X, F, A1, A2, 50)"
   ]
  },
  {
   "cell_type": "markdown",
   "id": "b50da54d-014d-49b7-8356-0788a04113d2",
   "metadata": {},
   "source": [
    "## 3. Translate"
   ]
  },
  {
   "cell_type": "markdown",
   "id": "bf68c5d1-7b51-4a2f-9bcd-5e82ceefe205",
   "metadata": {},
   "source": [
    "## 4. Rotate"
   ]
  }
 ],
 "metadata": {
  "kernelspec": {
   "display_name": "Python 3 (ipykernel)",
   "language": "python",
   "name": "python3"
  },
  "language_info": {
   "codemirror_mode": {
    "name": "ipython",
    "version": 3
   },
   "file_extension": ".py",
   "mimetype": "text/x-python",
   "name": "python",
   "nbconvert_exporter": "python",
   "pygments_lexer": "ipython3",
   "version": "3.11.0"
  }
 },
 "nbformat": 4,
 "nbformat_minor": 5
}
