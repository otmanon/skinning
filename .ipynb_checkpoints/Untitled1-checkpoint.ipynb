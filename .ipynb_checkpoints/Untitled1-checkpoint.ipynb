{
 "cells": [
  {
   "cell_type": "markdown",
   "id": "83cacc6d-40c5-4692-a880-4e2c7227510a",
   "metadata": {},
   "source": [
    "## Skinning\n",
    "\n",
    "This notebook will allow you to learn about what computer animators use behind the scenes to create animations for movies and video games all the time, _linear blend skinning_.\n"
   ]
  },
  {
   "cell_type": "markdown",
   "id": "27c1d8c3-5ebf-49d1-b118-6ca95e5ccd1b",
   "metadata": {},
   "source": [
    "## 1. Basics\n",
    "Let's start by importing all the python packages we will be using throughout this project. This is very simply done by running the below code block."
   ]
  },
  {
   "cell_type": "code",
   "execution_count": 2,
   "id": "c6b3d6fd-f0bf-4f31-ad97-6611230376ae",
   "metadata": {},
   "outputs": [],
   "source": [
    "import igl\n",
    "import polyscope as ps\n",
    "import numpy as np"
   ]
  },
  {
   "cell_type": "markdown",
   "id": "5ae70e12-4639-4ddc-8e02-4b3ff3918523",
   "metadata": {},
   "source": [
    "Next we will try to read in a triangle mesh. A triangle mesh is the basic tool we use to describe a shape to a computer. It can be described with two very simple lists (or as we say in computer science, _arrays_).\n",
    "\n",
    "`X` is a list of vertex positions. These are where each of the triangle meshes points are located.\n",
    "\n",
    "`F` is a list of triangle indices. Each triangle simply contains three numbers that say which of the vertices in `X` are used to create this triangle."
   ]
  },
  {
   "cell_type": "code",
   "execution_count": 9,
   "id": "afbc3d13-eef3-4cce-a044-6aa7bb866a8a",
   "metadata": {},
   "outputs": [
    {
     "name": "stdout",
     "output_type": "stream",
     "text": [
      "(3, 3)\n",
      "(1, 3)\n"
     ]
    }
   ],
   "source": [
    "X = [[0, 0, 0],\n",
    "    [1, 0, 0], \n",
    "    [1, 1, 0.]]\n",
    "F = [[0, 1, 2]]\n",
    "\n",
    "ps.init()\n",
    "print(np.array(X).shape)\n",
    "print(np.array(F).shape)\n",
    "ps.register_surface_mesh(\"mesh\", np.array(X), np.array(F), edge_width=1)\n",
    "ps.register_point_cloud(\"vertices\", np.array(X), radius=0.05, color=[0, 0, 0])\n",
    "\n",
    "ps.show()\n"
   ]
  },
  {
   "cell_type": "code",
   "execution_count": 8,
   "id": "83d4f5a9-0ed6-43c7-93f2-6c10e34330a7",
   "metadata": {},
   "outputs": [],
   "source": [
    "[X, _, _, F, _, _]  = igl.read_obj(\"./data/snail.obj\")\n",
    "ps.init()\n",
    "ps.register_surface_mesh(\"mesh\", X, F, edge_width=1)\n",
    "ps.register_point_cloud(\"vertices\", np.array(X), radius=0.001, color=[0, 0, 0])\n",
    "ps.show()"
   ]
  },
  {
   "cell_type": "code",
   "execution_count": null,
   "id": "b6066dbd-6ee8-4931-ab81-4feb944d5909",
   "metadata": {},
   "outputs": [],
   "source": []
  },
  {
   "cell_type": "markdown",
   "id": "74f6feb9-af23-4896-bae7-0a24264fc6c5",
   "metadata": {},
   "source": [
    "## 2. "
   ]
  }
 ],
 "metadata": {
  "kernelspec": {
   "display_name": "Python 3 (ipykernel)",
   "language": "python",
   "name": "python3"
  },
  "language_info": {
   "codemirror_mode": {
    "name": "ipython",
    "version": 3
   },
   "file_extension": ".py",
   "mimetype": "text/x-python",
   "name": "python",
   "nbconvert_exporter": "python",
   "pygments_lexer": "ipython3",
   "version": "3.11.0"
  }
 },
 "nbformat": 4,
 "nbformat_minor": 5
}
