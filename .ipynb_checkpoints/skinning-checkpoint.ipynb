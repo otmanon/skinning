{
 "cells": [
  {
   "cell_type": "markdown",
   "id": "83cacc6d-40c5-4692-a880-4e2c7227510a",
   "metadata": {},
   "source": [
    "## Skinning\n",
    "\n",
    "This notebook will allow you to learn about what computer animators use behind the scenes to create animations for movies and video games all the time, _linear blend skinning_.\n"
   ]
  },
  {
   "cell_type": "markdown",
   "id": "27c1d8c3-5ebf-49d1-b118-6ca95e5ccd1b",
   "metadata": {},
   "source": [
    "## 1. Basics\n",
    "Let's start by importing all the python packages we will be using throughout this project. This is very simply done by running the below code block."
   ]
  },
  {
   "cell_type": "code",
   "execution_count": 2,
   "id": "c6b3d6fd-f0bf-4f31-ad97-6611230376ae",
   "metadata": {},
   "outputs": [],
   "source": [
    "import igl\n",
    "import polyscope as ps\n",
    "import numpy as np\n",
    "from keyframe_animate import keyframe_animate\n",
    "\n",
    "### comment out below as they have solutions\n",
    "from scale import scale\n",
    "from scale import scale\n",
    "from translate import translate\n",
    "from rotate import rotate\n",
    "from lerp import lerp"
   ]
  },
  {
   "cell_type": "markdown",
   "id": "5ae70e12-4639-4ddc-8e02-4b3ff3918523",
   "metadata": {},
   "source": [
    "Next we will try to read in a triangle mesh. A triangle mesh is the basic tool we use to describe a shape to a computer. It can be described with two very simple lists (or as we say in computer science, _arrays_).\n",
    "\n",
    "`X` is a list of vertex positions. These are where each of the triangle meshes points are located.\n",
    "\n",
    "`F` is a list of triangle indices. Each triangle simply contains three numbers that say which of the vertices in `X` are used to create this triangle.\n",
    "\n",
    "We can do this first on a simple triangle, below we have a simple triangle represented with a triangle mesh. `X` contains the positions of the three points, and `F` here contains which points are used in `X` to compose each triangle! Because there's only one triangle, `F` is very simple and has only one row. "
   ]
  },
  {
   "cell_type": "code",
   "execution_count": 3,
   "id": "afbc3d13-eef3-4cce-a044-6aa7bb866a8a",
   "metadata": {},
   "outputs": [],
   "source": [
    "X = [[0, 0, 0],\n",
    "    [1, 0, 0], \n",
    "    [1, 1, 0.]]\n",
    "F = [[0, 1, 2]]\n",
    "\n",
    "ps.init()\n",
    "ps.register_surface_mesh(\"mesh\", np.array(X), np.array(F), edge_width=1)\n",
    "ps.register_point_cloud(\"vertices\", np.array(X), radius=0.05, color=[0, 0, 0])\n",
    "ps.reset_camera_to_home_view()\n",
    "ps.show()\n"
   ]
  },
  {
   "cell_type": "markdown",
   "id": "770baaff-c9f3-497b-b41e-d4612b15ce27",
   "metadata": {},
   "source": [
    "For now, that annoying `ps` code is just the code we use to tell the computer to display the triangle mesh. To do this, we've made us of our installed polyscope library!\n",
    "\n",
    "While the above is super simple, we can easily extend this to extremely complicated `X` and `F` to describe complex 3D shapes. The below shows a triangle mesh of a snail, that we are reading in from the `data` directory I have provided."
   ]
  },
  {
   "cell_type": "code",
   "execution_count": 3,
   "id": "83d4f5a9-0ed6-43c7-93f2-6c10e34330a7",
   "metadata": {},
   "outputs": [],
   "source": [
    "[X, _, _, F, _, _]  = igl.read_obj(\"./data/snail.obj\")\n",
    "ps.init()\n",
    "ps.register_surface_mesh(\"mesh\", X, F, edge_width=1)\n",
    "ps.register_point_cloud(\"vertices\", X, radius=0.001, color=[0, 0, 0])\n",
    "ps.reset_camera_to_home_view()\n",
    "ps.show()"
   ]
  },
  {
   "cell_type": "markdown",
   "id": "21f3d5bb-1206-44c8-a2c0-d336f666ea5c",
   "metadata": {},
   "source": [
    "Let's work with something less complicated for now, a 2D meshes"
   ]
  },
  {
   "cell_type": "code",
   "execution_count": 4,
   "id": "8252b13b-6864-4800-b23b-8cf6c1ea3959",
   "metadata": {},
   "outputs": [],
   "source": [
    "[X, _, _, F, _, _]  = igl.read_obj(\"./data/cthullu.obj\")\n",
    "ps.init()\n",
    "ps.register_surface_mesh(\"mesh\", X, F, edge_width=1)\n",
    "ps.register_point_cloud(\"vertices\", X, radius=0.001, color=[0, 0, 0])\n",
    "ps.reset_camera_to_home_view()\n",
    "ps.show()"
   ]
  },
  {
   "cell_type": "markdown",
   "id": "8362b07e-48f0-48ab-b9b2-d6952b728230",
   "metadata": {},
   "source": [
    "## 2. Mixing Quantities with \"Linear Interpolation\""
   ]
  },
  {
   "cell_type": "markdown",
   "id": "05fbd0e9-ad85-4d0d-aad5-b6f8d0b4d94b",
   "metadata": {},
   "source": [
    "Imagine I have two quantities, `q1`, which represents the amount of milk in my white chocolate (let's say `100` mL), and `q2`, which represents the amount of milk in my dark chocolate (let's say `40mL`). \n",
    "\n",
    "\n",
    "But to make my top secret chocolate recipe, I don't use straight up white chocolate or straight up dark chocolate, I use my own custom amount of milk that I'm not telling anyone about!\n",
    "\n",
    "Unfortunately, at the chocolatier conference I make the mistake of telling a Hershey's representative that my chocolate is exactly a third (`s=1/3`)  of the way between white chocolate and dark chocolate.\n",
    "\n",
    "The next day the top news on the press is : \"Otman's chocolate revealed to contain `60mL` of of milk! Everyone can make it at home now!\". My business is ruined.\n",
    "\n",
    "How did Hershey's figure out my top secret amount of milk? They used *linear interpolation* of course!\n",
    "\n",
    "Linear interpolation takes two quantities $q_1$ $q_2$, as well as a fraction $s$  I use to determine how much of each I want, and produces a mixture of both quantities!\n",
    "\n",
    "$$\n",
    "q_{mix} = q_1 s + q_2 (1 - s)\n",
    "$$\n",
    "\n",
    "Your first task is to edit the function below to do linear interpolation... we're going to be interpolating our own quantities soon enough to make animations!\n",
    "\n"
   ]
  },
  {
   "cell_type": "code",
   "execution_count": 5,
   "id": "908cffff-cd58-41d8-8d16-d4310b42ee84",
   "metadata": {},
   "outputs": [],
   "source": [
    "def lerp(q1, q2, s):\n",
    "    # Replace the code below so that we can linearly interpolate matrix A1 and A2, at timestep s, with a maximum timestep of t\n",
    "    q = q1\n",
    "    return A"
   ]
  },
  {
   "cell_type": "markdown",
   "id": "b50da54d-014d-49b7-8356-0788a04113d2",
   "metadata": {},
   "source": [
    "## 3. Translate"
   ]
  },
  {
   "cell_type": "code",
   "execution_count": 6,
   "id": "d93619a0-5379-4fdb-a98d-4cc378af5322",
   "metadata": {},
   "outputs": [
    {
     "ename": "NameError",
     "evalue": "name 'A' is not defined",
     "output_type": "error",
     "traceback": [
      "\u001b[1;31m---------------------------------------------------------------------------\u001b[0m",
      "\u001b[1;31mNameError\u001b[0m                                 Traceback (most recent call last)",
      "Cell \u001b[1;32mIn[6], line 14\u001b[0m\n\u001b[0;32m     11\u001b[0m A3 \u001b[38;5;241m=\u001b[39m translate(t1)\n\u001b[0;32m     12\u001b[0m A4 \u001b[38;5;241m=\u001b[39m translate(t2)\n\u001b[1;32m---> 14\u001b[0m \u001b[43mkeyframe_animate\u001b[49m\u001b[43m(\u001b[49m\u001b[43mX\u001b[49m\u001b[43m,\u001b[49m\u001b[43m \u001b[49m\u001b[43mF\u001b[49m\u001b[43m,\u001b[49m\u001b[43m \u001b[49m\u001b[43mA3\u001b[49m\u001b[43m,\u001b[49m\u001b[43m \u001b[49m\u001b[43mA4\u001b[49m\u001b[43m,\u001b[49m\u001b[43m \u001b[49m\u001b[43mlerp\u001b[49m\u001b[43m,\u001b[49m\u001b[43m \u001b[49m\u001b[38;5;241;43m50\u001b[39;49m\u001b[43m)\u001b[49m\n\u001b[0;32m     15\u001b[0m keyframe_animate(X, F, A4, A3, lerp, \u001b[38;5;241m50\u001b[39m)\n",
      "File \u001b[1;32m~\\Desktop\\skinning\\keyframe_animate.py:15\u001b[0m, in \u001b[0;36mkeyframe_animate\u001b[1;34m(X, F, A1, A2, interp, num_timesteps, fps)\u001b[0m\n\u001b[0;32m     13\u001b[0m W \u001b[38;5;241m=\u001b[39m np\u001b[38;5;241m.\u001b[39mones((X\u001b[38;5;241m.\u001b[39mshape[\u001b[38;5;241m0\u001b[39m], \u001b[38;5;241m1\u001b[39m))\n\u001b[0;32m     14\u001b[0m \u001b[38;5;28;01mfor\u001b[39;00m i \u001b[38;5;129;01min\u001b[39;00m \u001b[38;5;28mrange\u001b[39m(num_timesteps):\n\u001b[1;32m---> 15\u001b[0m     A \u001b[38;5;241m=\u001b[39m \u001b[43minterp\u001b[49m\u001b[43m(\u001b[49m\u001b[43mA1\u001b[49m\u001b[43m,\u001b[49m\u001b[43m \u001b[49m\u001b[43mA2\u001b[49m\u001b[43m,\u001b[49m\u001b[43m \u001b[49m\u001b[43mi\u001b[49m\u001b[38;5;241;43m/\u001b[39;49m\u001b[43mnum_timesteps\u001b[49m\u001b[43m)\u001b[49m\n\u001b[0;32m     16\u001b[0m     V \u001b[38;5;241m=\u001b[39m linear_blend_skinning(X, W, A)\n\u001b[0;32m     17\u001b[0m     ps_mesh\u001b[38;5;241m.\u001b[39mupdate_vertex_positions(V)\n",
      "Cell \u001b[1;32mIn[5], line 4\u001b[0m, in \u001b[0;36mlerp\u001b[1;34m(q1, q2, s)\u001b[0m\n\u001b[0;32m      1\u001b[0m \u001b[38;5;28;01mdef\u001b[39;00m \u001b[38;5;21mlerp\u001b[39m(q1, q2, s):\n\u001b[0;32m      2\u001b[0m     \u001b[38;5;66;03m# Replace the code below so that we can linearly interpolate matrix A1 and A2, at timestep s, with a maximum timestep of t\u001b[39;00m\n\u001b[0;32m      3\u001b[0m     q \u001b[38;5;241m=\u001b[39m q1\n\u001b[1;32m----> 4\u001b[0m     \u001b[38;5;28;01mreturn\u001b[39;00m \u001b[43mA\u001b[49m\n",
      "\u001b[1;31mNameError\u001b[0m: name 'A' is not defined"
     ]
    }
   ],
   "source": [
    "def translate(t):\n",
    "    # Create an affine matrix A 3x4 affine matrix that represents a translation operation\n",
    "    # Given a list of 3 entries t1\n",
    "    A = [[0, 0, 0, 0],\n",
    "         [0, 0, 0, 0],\n",
    "         [0, 0, 0, 0]]\n",
    "    return np.array(A)\n",
    "\n",
    "t1 = [0, 0, 0]\n",
    "t2 = [0, 1, 0]\n",
    "A3 = translate(t1)\n",
    "A4 = translate(t2)\n",
    "\n",
    "keyframe_animate(X, F, A3, A4, lerp, 50)\n",
    "keyframe_animate(X, F, A4, A3, lerp, 50)"
   ]
  },
  {
   "cell_type": "markdown",
   "id": "74f6feb9-af23-4896-bae7-0a24264fc6c5",
   "metadata": {},
   "source": [
    "## 4. Scale\n"
   ]
  },
  {
   "cell_type": "code",
   "execution_count": null,
   "id": "7a93338d-15fb-480a-a413-3cf83dc7a7e2",
   "metadata": {},
   "outputs": [],
   "source": [
    "def scale(s):\n",
    "    # Create an affine matrix A 3x4 affine matrix that represents a scaling operation\n",
    "    # Given a list of 3 entries s\n",
    "    A = [[0, 0, 0, 0],\n",
    "         [0, 0, 0, 0],\n",
    "         [0, 0, 0, 0]]\n",
    "    return np.array(A)\n",
    "    \n",
    "s1 = [1, 1, 1]\n",
    "s2 = [3, 3, 3]\n",
    "A1 = scale(s1)\n",
    "A2 = scale(s2)\n",
    "\n",
    "keyframe_animate(X, F, A1, A2, lerp, 50)\n",
    "keyframe_animate(X, F, A2, A1, lerp, 50)"
   ]
  },
  {
   "cell_type": "markdown",
   "id": "bf68c5d1-7b51-4a2f-9bcd-5e82ceefe205",
   "metadata": {},
   "source": [
    "## 5. Problems in Paradise Rotations!"
   ]
  },
  {
   "cell_type": "code",
   "execution_count": null,
   "id": "490ccaca-efeb-409c-a73a-97f5c087593b",
   "metadata": {},
   "outputs": [],
   "source": [
    "r1 = [0, 0, 0]\n",
    "r2 = [0, 0, np.radians(90)]\n",
    "A5 = rotate(r1)\n",
    "A6 = rotate(r2)\n",
    "keyframe_animate(X, F, A5, A6, lerp,  50)\n",
    "keyframe_animate(X, F, A6, A5, lerp,  50)"
   ]
  },
  {
   "cell_type": "code",
   "execution_count": null,
   "id": "ff66571e-886d-4d5d-8cb6-108e05451f3f",
   "metadata": {},
   "outputs": [],
   "source": [
    "r3 = [0, 0, -np.radians(180)]\n",
    "A7 = rotate(r3)\n",
    "keyframe_animate(X, F, A5, A7, lerp,  50)\n",
    "keyframe_animate(X, F, A7, A5, lerp,  50)"
   ]
  },
  {
   "cell_type": "code",
   "execution_count": 1,
   "id": "90c9a032-bdec-48c8-98eb-b5ae3126a0a2",
   "metadata": {},
   "outputs": [
    {
     "ename": "NameError",
     "evalue": "name 'np' is not defined",
     "output_type": "error",
     "traceback": [
      "\u001b[1;31m---------------------------------------------------------------------------\u001b[0m",
      "\u001b[1;31mNameError\u001b[0m                                 Traceback (most recent call last)",
      "Cell \u001b[1;32mIn[1], line 11\u001b[0m\n\u001b[0;32m      7\u001b[0m     \u001b[38;5;28;01mreturn\u001b[39;00m R\n\u001b[0;32m     10\u001b[0m r1 \u001b[38;5;241m=\u001b[39m [\u001b[38;5;241m0\u001b[39m, \u001b[38;5;241m0\u001b[39m, \u001b[38;5;241m0\u001b[39m]\n\u001b[1;32m---> 11\u001b[0m r2 \u001b[38;5;241m=\u001b[39m [\u001b[38;5;241m0\u001b[39m, \u001b[38;5;241m0\u001b[39m, \u001b[43mnp\u001b[49m\u001b[38;5;241m.\u001b[39mradians(\u001b[38;5;241m90\u001b[39m)]\n\u001b[0;32m     12\u001b[0m A5 \u001b[38;5;241m=\u001b[39m rotate(r1)\n\u001b[0;32m     13\u001b[0m A6 \u001b[38;5;241m=\u001b[39m rotate(r2)\n",
      "\u001b[1;31mNameError\u001b[0m: name 'np' is not defined"
     ]
    }
   ],
   "source": [
    "def slerp(r1, r2, s):\n",
    "     # Interpolates two rotation vectors given by r1 and r2, interprets the resulting mix as an affine matrix, and returns that matrix\n",
    "    r1 = np.array(r1)\n",
    "    r2 = np.array(r2)\n",
    "    r = lerp(r1, r2, s)\n",
    "    R = rotate(r)\n",
    "    return R\n",
    "\n",
    "\n",
    "r1 = [0, 0, 0]\n",
    "r2 = [0, 0, np.radians(90)]\n",
    "A5 = rotate(r1)\n",
    "A6 = rotate(r2)\n",
    "keyframe_animate(X, F, r1, r2, slerp,  50)\n",
    "keyframe_animate(X, F, r1, r2, slerp,  50)"
   ]
  },
  {
   "cell_type": "code",
   "execution_count": null,
   "id": "2df24921-a55a-4285-8dde-765e891e525a",
   "metadata": {},
   "outputs": [],
   "source": []
  }
 ],
 "metadata": {
  "kernelspec": {
   "display_name": "Python 3 (ipykernel)",
   "language": "python",
   "name": "python3"
  },
  "language_info": {
   "codemirror_mode": {
    "name": "ipython",
    "version": 3
   },
   "file_extension": ".py",
   "mimetype": "text/x-python",
   "name": "python",
   "nbconvert_exporter": "python",
   "pygments_lexer": "ipython3",
   "version": "3.10.13"
  }
 },
 "nbformat": 4,
 "nbformat_minor": 5
}
