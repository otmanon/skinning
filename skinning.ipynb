{
 "cells": [
  {
   "cell_type": "markdown",
   "id": "83cacc6d-40c5-4692-a880-4e2c7227510a",
   "metadata": {},
   "source": [
    "## Skinning\n",
    "\n",
    "This notebook will allow you to learn about what computer animators use behind the scenes to create animations for movies and video games all the time, _linear blend skinning_.\n"
   ]
  },
  {
   "cell_type": "markdown",
   "id": "27c1d8c3-5ebf-49d1-b118-6ca95e5ccd1b",
   "metadata": {},
   "source": [
    "## 1. Basics\n",
    "Let's start by importing all the python packages we will be using throughout this project. This is very simply done by running the below code block."
   ]
  },
  {
   "cell_type": "code",
   "execution_count": 3,
   "id": "c6b3d6fd-f0bf-4f31-ad97-6611230376ae",
   "metadata": {},
   "outputs": [],
   "source": [
    "import igl\n",
    "import polyscope as ps\n",
    "import numpy as np\n",
    "from keyframe_animate import keyframe_animate\n",
    "\n",
    "### comment out below as they have solutions\n",
    "from scale import scale\n",
    "from scale import scale\n",
    "from translate import translate\n",
    "from rotate import rotate\n",
    "from lerp import lerp"
   ]
  },
  {
   "cell_type": "markdown",
   "id": "5ae70e12-4639-4ddc-8e02-4b3ff3918523",
   "metadata": {},
   "source": [
    "Next we will try to read in a triangle mesh. A triangle mesh is the basic tool we use to describe a shape to a computer. It can be described with two very simple lists (or as we say in computer science, _arrays_).\n",
    "\n",
    "`X` is a list of vertex positions. These are where each of the triangle meshes points are located.\n",
    "\n",
    "`F` is a list of triangle indices. Each triangle simply contains three numbers that say which of the vertices in `X` are used to create this triangle.\n",
    "\n",
    "We can do this first on a simple triangle, below we have a simple triangle represented with a triangle mesh. `X` contains the positions of the three points, and `F` here contains which points are used in `X` to compose each triangle! Because there's only one triangle, `F` is very simple and has only one row. "
   ]
  },
  {
   "cell_type": "code",
   "execution_count": 4,
   "id": "afbc3d13-eef3-4cce-a044-6aa7bb866a8a",
   "metadata": {},
   "outputs": [],
   "source": [
    "X = [[0, 0, 0],\n",
    "    [1, 0, 0], \n",
    "    [1, 1, 0.]]\n",
    "F = [[0, 1, 2]]\n",
    "\n",
    "ps.init()\n",
    "ps.register_surface_mesh(\"mesh\", np.array(X), np.array(F), edge_width=1)\n",
    "ps.register_point_cloud(\"vertices\", np.array(X), radius=0.05, color=[0, 0, 0])\n",
    "ps.reset_camera_to_home_view()\n",
    "ps.show()\n"
   ]
  },
  {
   "cell_type": "markdown",
   "id": "770baaff-c9f3-497b-b41e-d4612b15ce27",
   "metadata": {},
   "source": [
    "For now, that annoying `ps` code is just the code we use to tell the computer to display the triangle mesh. To do this, we've made us of our installed polyscope library!\n",
    "\n",
    "While the above is super simple, we can easily extend this to extremely complicated `X` and `F` to describe complex 3D shapes. The below shows a triangle mesh of a snail, that we are reading in from the `data` directory I have provided."
   ]
  },
  {
   "cell_type": "code",
   "execution_count": 5,
   "id": "83d4f5a9-0ed6-43c7-93f2-6c10e34330a7",
   "metadata": {},
   "outputs": [],
   "source": [
    "[X, _, _, F, _, _]  = igl.read_obj(\"./data/snail.obj\")\n",
    "ps.init()\n",
    "ps.register_surface_mesh(\"mesh\", X, F, edge_width=1)\n",
    "ps.register_point_cloud(\"vertices\", X, radius=0.001, color=[0, 0, 0])\n",
    "ps.reset_camera_to_home_view()\n",
    "ps.show()"
   ]
  },
  {
   "cell_type": "markdown",
   "id": "21f3d5bb-1206-44c8-a2c0-d336f666ea5c",
   "metadata": {},
   "source": [
    "Let's work with something less complicated for now, a 2D meshes"
   ]
  },
  {
   "cell_type": "code",
   "execution_count": null,
   "outputs": [],
   "source": [],
   "metadata": {
    "collapsed": false
   }
  },
  {
   "cell_type": "code",
   "execution_count": 25,
   "id": "8252b13b-6864-4800-b23b-8cf6c1ea3959",
   "metadata": {},
   "outputs": [],
   "source": [
    "[X, _, _, F, _, _]  = igl.read_obj(\"./data/cthullu.obj\")\n",
    "ps.init()\n",
    "ps.register_surface_mesh(\"mesh\", X, F, edge_width=1)\n",
    "ps.register_point_cloud(\"vertices\", X, radius=0.001, color=[0, 0, 0])\n",
    "ps.reset_camera_to_home_view()\n",
    "ps.show()"
   ]
  },
  {
   "cell_type": "markdown",
   "id": "8362b07e-48f0-48ab-b9b2-d6952b728230",
   "metadata": {},
   "source": [
    "## 2. Mixing Quantities with \"Linear Interpolation\""
   ]
  },
  {
   "cell_type": "markdown",
   "id": "05fbd0e9-ad85-4d0d-aad5-b6f8d0b4d94b",
   "metadata": {},
   "source": [
    "Imagine I have two quantities, `q1`, which represents the amount of milk in my white chocolate (let's say `100` mL), and `q2`, which represents the amount of milk in my dark chocolate (let's say `40mL`). \n",
    "\n",
    "\n",
    "But to make my top secret chocolate recipe, I don't use straight up white chocolate or straight up dark chocolate, I use my own custom amount of milk that I'm not telling anyone about!\n",
    "\n",
    "Unfortunately, at the chocolatier conference I make the mistake of telling a Hershey's representative that my chocolate is exactly a third (`s=1/3`)  of the way between white chocolate and dark chocolate.\n",
    "\n",
    "The next day the top news on the press is : \"Otman's chocolate revealed to contain `80mL` of of milk! Everyone can make it at home now!\". My business is ruined.\n",
    "\n",
    "How did Hershey's figure out my top secret amount of milk? They used *linear interpolation* of course!\n",
    "\n",
    "Linear interpolation takes two quantities $q_1$ $q_2$, as well as a fraction $s$  I use to determine how much of each I want, and produces a mixture of both quantities!\n",
    "\n",
    "$$\n",
    "q_{mix} = q_1 s + q_2 (1 - s)\n",
    "$$\n",
    "\n",
    "Your first task is to edit the function below to do linear interpolation... we're going to be interpolating our own quantities soon enough to make animations! Make sure the predicted amount of milk in Otman's chocolate matches what Hershey's predicted!\n",
    "\n"
   ]
  },
  {
   "cell_type": "code",
   "execution_count": 28,
   "id": "908cffff-cd58-41d8-8d16-d4310b42ee84",
   "metadata": {},
   "outputs": [
    {
     "name": "stdout",
     "output_type": "stream",
     "text": [
      "The amount of milk in Otman's chocolate, according to Hershey's, is 80.0 mL\n"
     ]
    }
   ],
   "source": [
    "def lerp(q1, q2, s):\n",
    "    # Replace the code below so that we can linearly interpolate matrix A1 and A2, at timestep s, with a maximum timestep of t\n",
    "    q = q1\n",
    "\n",
    "    q = q1 * (1-s) + q2 * ( s)\n",
    "    return q\n",
    "\n",
    "q1 = 100\n",
    "q2 = 40\n",
    "\n",
    "q = lerp(q1, q2, 1/3)\n",
    "print(\"The amount of milk in Otman's chocolate, according to Hershey's, is\", q, \"mL\")\n"
   ]
  },
  {
   "cell_type": "markdown",
   "source": [
    "In graphics and animation _interpolation_ is in particular important for _keyframe animation_.  This is an animation method that lets a user specify two different poses, and the keyframe animation algorithm smoothly transitions between the two poses. This is done by interpolating the poses at each time step, and then displaying the result."
   ],
   "metadata": {
    "collapsed": false
   }
  },
  {
   "cell_type": "markdown",
   "id": "b50da54d-014d-49b7-8356-0788a04113d2",
   "metadata": {},
   "source": [
    "##  Controlling Virtual Characters\n",
    "\n",
    "Editing 3D scenes is notoriously difficult. Picture all the virtual characters in a normal movie or video game. For example, look at this nice picture of Woody!\n",
    "\n",
    "<img src=\"./images/woody.jpg\" alt=\"drawing\" width=\"400\"/>\n",
    "<br>\n",
    "\n",
    "Looks so nice and polished! Well imagine being the animator that created this picture! They had to make sure the hat is oriented on his head the way we expect, that his smile looks natural and not weird, that his arms are crossed over in a way that feels intuitive... and they have to do all this virtually on their computer!\n",
    "They have to open their 3D modelling software and look at the mesh of woody\n",
    "\n",
    "<img src=\"./images/Woody-Mesh-300x259.jpg\" alt=\"drawing\" width=\"400\"/>\n",
    "<br>\n",
    "\n",
    "And then they somehow have to edit and pose the positions of each and every one of these potentially thousands of vertices!!!\n",
    "Sounds hard, right? Well, it is! But luckily we have tools like _linear_blend_skinning_ to help us out!\n",
    "\n",
    "This first important question we have to ask ourselves though, is what does it mean to ask our computer to \"move\" or \"pose\" an object?\n",
    "\n"
   ]
  },
  {
   "cell_type": "markdown",
   "source": [
    "## Affine Matrices\n",
    "\n",
    "We're going to see that lots of the most important kinds of motions an animator might want, can be represented by a so-called _affine matrix_. You're going to learn a lot about these if you take any STEM degree in university, but we're going to tell you the basics here.\n",
    "\n",
    "A matrix is just a group of numbers organized into a grid! For example, the matrix below is a 2x3 matrix, because it has 2 rows and 3 columns.\n",
    "\n",
    "$$\n",
    "\\begin{bmatrix}\n",
    "1 & 2 & 3 \\\\\n",
    "4 & 5 & 6\n",
    "\\end{bmatrix}\n",
    "$$\n",
    "Organizing these numbers into matrix is _super_ important in math and literally _any_ science, because it allows you to represent a _lot_ of information in a _very_ compact way. For example, the matrix above could represent the system of these equations:\n",
    "\n",
    "$$\n",
    "\\begin{align*}\n",
    "x + 2y = 3 \\\\\n",
    "4x + 5y = 6\n",
    "\\end{align*}\n",
    "$$\n",
    "You might be used to have your teachers asking you to figure out x and y, given the above two equations. You probably know how annoying it is to be asked that.\n",
    "Luckily, if you convert it to a matrix form like the above, you can just use a computer to solve it for you :D\n",
    "... but why the heck am I telling you this? I was just telling you about how we move objects in space, and now I'm giving you nightmare flashbacks from your past or future math classes!\n",
    "\n",
    "Well, it turns out that we can write many geometric motions as a matrix as well!!! Some specific matrices have a very intuitive understanding. The matrices we're going to be dealing with in this project will always be 3x4, and will look like this:\n",
    "\n",
    "$$\n",
    "A = \\begin{bmatrix}\n",
    "a_{11} & a_{12} & a_{13} & a_{14} \\\\\n",
    "a_{21} & a_{22} & a_{23} & a_{24} \\\\\n",
    "a_{31} & a_{32} & a_{33} & a_{34}\n",
    "\\end{bmatrix}\n",
    "$$\n",
    "\n",
    "By changing each of the $a$ values in the matrix above, we can achieve different motions!\n"
   ],
   "metadata": {
    "collapsed": false
   }
  },
  {
   "cell_type": "markdown",
   "source": [
    "## 3. Translation Matrix\n",
    "Maybe the simplest geometric motion we can think about is a \"translation\". A translation, in math, means just sliding and object.\n",
    "So when I say, translate this object to the left by 2 meters, all I'm saying is slide it to the left two meters. You're not allowed to rotate it, or expand it or anything else.\n",
    "\n",
    "It turns out translations have this very simple matrix representation:\n",
    "$$\n",
    "A = \\begin{bmatrix}\n",
    "1 & 0 & 0 & t_x \\\\\n",
    "0 & 1 & 0 & t_y \\\\\n",
    "0 & 0 & 1 & t_z\n",
    "\\end{bmatrix}\n",
    "$$\n",
    "Where $t_x$, $t_y$, and $t_z$ are the amount we want to slide the object in the x, y, and z directions respectively. Note that the diagonal entries of ones are super important!\n",
    "\n",
    "Change the function below to return the translation matrix for a given translation vector `t` with three entries `t[0] = t_x`, `t[1] = t_y` and `t[2]=t_z`. Once you're happy with your function, feel free to change the translation vector `t1` and `t2` to change the kind of motions your mesh can take.\n",
    "\n",
    "The function `keyframe_animate`, takes as input our mesh,  and two 3x4 affine matrices, and performs the linear interpolation function we defined above on them, so that we can smoothly transition from one to the next!"
   ],
   "metadata": {
    "collapsed": false
   }
  },
  {
   "cell_type": "code",
   "execution_count": 27,
   "id": "d93619a0-5379-4fdb-a98d-4cc378af5322",
   "metadata": {},
   "outputs": [],
   "source": [
    "def translate(t):\n",
    "    # Create an affine matrix A 3x4 affine matrix that represents a translation operation\n",
    "    # Given a list of 3 entries t1\n",
    "    A = [[1, 0, 0, t[0]],\n",
    "         [0, 1, 0, t[1]],\n",
    "         [0, 0, 1, t[2]]]\n",
    "    return np.array(A)\n",
    "\n",
    "t1 = [0, 0, 0]\n",
    "t2 = [0, 1, 0]\n",
    "A3 = translate(t1)\n",
    "A4 = translate(t2)\n",
    "\n",
    "keyframe_animate(X, F, A3, A4, lerp, 50)\n",
    "keyframe_animate(X, F, A4, A3, lerp, 50)"
   ]
  },
  {
   "cell_type": "markdown",
   "id": "74f6feb9-af23-4896-bae7-0a24264fc6c5",
   "metadata": {},
   "source": [
    "## 4. Scaling\n",
    "The next geometric motion we care about is \"scaling\"! Scaling is just the fancy name we've given to the concept of making things bigger/smaller.\n",
    "\n",
    "The affine matrix for scaling is super simple as well! It looks like this:\n",
    "$$\n",
    "A = \\begin{bmatrix}\n",
    "s_x & 0 & 0 & 0 \\\\\n",
    "0 & s_y & 0 & 0 \\\\\n",
    "0 & 0 & s_z & 0\n",
    "\\end{bmatrix}\n",
    "$$\n",
    "\n",
    "Where $s_x$, $s_y$, and $s_z$ are the amount we want to make the object bigger or smaller in the x, y, and z directions respectively.\n",
    "\n",
    "Note that you can make something bigger by using a number for $s_x$, $s_y$ and $s_z$ bigger than 1, and smaller by using a number smaller than 1.\n",
    "\n",
    "Note that we can assign different scaling in either direction, $s_x$ can be different from $s_y$ and $s_z$.\n",
    "When $s_x = s_y = s_z$, we call this a _uniform_ scaling. When they are different, we call this a _non-uniform_ scaling.\n",
    "\n",
    "Change the function below to return the scaling matrix for a given scaling vector `s` with three entries `s[0] = s_x`, `s[1] = s_y` and `s[2]=s_z`. Once you're happy with your function, feel free to change the scaling vector `s1` and `s2` to change the kind of motions your mesh can take. Be sure to investigate what non-uniform scaling is.\n"
   ]
  },
  {
   "cell_type": "code",
   "execution_count": 30,
   "id": "7a93338d-15fb-480a-a413-3cf83dc7a7e2",
   "metadata": {},
   "outputs": [],
   "source": [
    "def scale(s):\n",
    "    # Create an affine matrix A 3x4 affine matrix that represents a scaling operation\n",
    "    # Given a list of 3 entries s\n",
    "    A = [[s[0], 0, 0, 0],\n",
    "         [0, s[1], 0, 0],\n",
    "         [0, 0, s[2], 0]]\n",
    "    return np.array(A)\n",
    "    \n",
    "s1 = [1, 1, 1]\n",
    "s2 = [1, 3, 1]\n",
    "A1 = scale(s1)\n",
    "A2 = scale(s2)\n",
    "\n",
    "keyframe_animate(X, F, A1, A2, lerp, 50)\n",
    "keyframe_animate(X, F, A2, A1, lerp, 50)"
   ]
  },
  {
   "cell_type": "markdown",
   "id": "bf68c5d1-7b51-4a2f-9bcd-5e82ceefe205",
   "metadata": {},
   "source": [
    "## 5. Rotations\n",
    "The next geometric motion we care about is \"rotation\"! A rotation lets you turn your object to face a different direction.\n",
    "You've probably heard of a rotation before, and now we can tell you how to represent this as an affine matrix as well!\n",
    "\n",
    "The affine matrix for 2D rotation is a bit more complicated than the previous ones. But still not too bad! It looks like this:\n",
    "\n",
    "$$\n",
    "A = \\begin{bmatrix}\n",
    "cos(\\theta)  & - sin(\\theta) & 0 & 0 \\\\\n",
    "sin(\\theta) & cos(\\theta)  & 0 & 0 \\\\\n",
    "0 & 0 & 1 & 0\n",
    "\\end{bmatrix}\n",
    "$$\n",
    "\n",
    "Where $\\theta$ is the amount we want to rotate the object. Note that the above formula is only for a 2D rotation, where you're rotating the shape `about` the z-axis. More complicated rotations are possible in 3D, about arbitrary axes, but we won't be dealing with those in this project for now."
   ]
  },
  {
   "cell_type": "code",
   "execution_count": 34,
   "id": "490ccaca-efeb-409c-a73a-97f5c087593b",
   "metadata": {},
   "outputs": [],
   "source": [
    "def rotate(theta):\n",
    "    # Create an affine matrix A 3x4 affine matrix that represents a rotation operation\n",
    "    # Given a list of 3 entries r\n",
    "    A = [[np.cos(theta), -np.sin(theta), 0, 0],\n",
    "         [np.sin(theta), np.cos(theta), 0, 0],\n",
    "         [0, 0, 1, 0]]\n",
    "    return np.array(A)\n",
    "\n",
    "# r1 = [0, 0, 0]\n",
    "# r2 = [0, 0, np.radians(90)]\n",
    "r1 = 0\n",
    "r2 = np.radians(90)\n",
    "A5 = rotate(r1)\n",
    "A6 = rotate(r2)\n",
    "keyframe_animate(X, F, A5, A6, lerp,  50)\n",
    "keyframe_animate(X, F, A6, A5, lerp,  50)"
   ]
  },
  {
   "cell_type": "markdown",
   "source": [
    "Hold on just one second... did you notice that?? If possible, bring the code on the right side of the screen, and polyscope to the left, and rerun the code above so you can get a closer look...\n",
    "\n",
    "Doesn't it look like the mesh is _shrinking_ and _scaling_ as it's rotating?? It's just for a second... maybe I'm crazy. Let's try something a little different. Let's try to make it rotate from 0-180 degrees in one go!"
   ],
   "metadata": {
    "collapsed": false
   }
  },
  {
   "cell_type": "code",
   "execution_count": 43,
   "id": "ff66571e-886d-4d5d-8cb6-108e05451f3f",
   "metadata": {},
   "outputs": [],
   "source": [
    "r3 =  -np.radians(180)\n",
    "A7 = rotate(r3)\n",
    "keyframe_animate(X, F, A5, A7, lerp,  50)\n",
    "keyframe_animate(X, F, A7, A5, lerp,  50)"
   ]
  },
  {
   "cell_type": "markdown",
   "source": [
    "No, something for sure is _definitely_ going on. It looks like the mesh shrinks and then disappears and then flips on the other side!!! Why doesn't it just rotate like we expect it to?\n",
    "\n",
    "Why does this happen??? The reason is that our _linear interpolation_ does not properly interpolate rotations the way we expect. As a bonus, try to show when interpolating between a 0-rotation and a 180-rotation will give you something bad in the middle.\n",
    "\n",
    "\n",
    "This is a well known problem in graphics and the effect you see is given the name \"the Candy Wrapper Effect\", and can lead to disastrous results when artists try to rotate parts of their shape!\n",
    "\n",
    "<img src=\"./images/candy-wrapper.png\" alt=\"drawing\" width=\"400\"/>\n",
    "<br>\n",
    "\n",
    "### 6. Spherical Linear Interpolation\n",
    "\n",
    "The solution to this problem is to use a different kind of interpolation, called _spherical linear interpolation_ or _slerp_ for short. This is a more complicated kind of interpolation that is specifically designed to interpolate rotations in a way that doesn't give you the candy wrapper effect.\n",
    "\n",
    "The idea here is instead of interpolating the rotation matrices directly, like we were doing in lerp, we're going to be interpolating the angles that define the rotation matrices, and then converting these angles back into rotation matrices."
   ],
   "metadata": {
    "collapsed": false
   }
  },
  {
   "cell_type": "code",
   "execution_count": 46,
   "id": "90c9a032-bdec-48c8-98eb-b5ae3126a0a2",
   "metadata": {},
   "outputs": [],
   "source": [
    "def slerp(r1, r2, s):\n",
    "     # Interpolate the angles r1 and r2 with fraction s , and then build a rotation matrix off that interpolated rotation.\n",
    "    r1 = np.array(r1)\n",
    "    r2 = np.array(r2)\n",
    "    r = lerp(r1, r2, s)\n",
    "    R = rotate(r)\n",
    "    return R\n",
    "\n",
    "r1 = 0\n",
    "r2 = np.radians(-180)\n",
    "keyframe_animate(X, F, r1, r2, slerp,  50)\n",
    "keyframe_animate(X, F, r2, r1, slerp,  50)"
   ]
  },
  {
   "cell_type": "markdown",
   "source": [
    "Much better, right? Our shape correctly rotates to the 180 mark finally :D."
   ],
   "metadata": {
    "collapsed": false
   }
  },
  {
   "cell_type": "markdown",
   "source": [
    "### 7. Bonus : Linear Blend Skinning\n",
    "The last thing we're going to talk about is _linear blend skinning_ or _LBS_ for short. This is a technique that is used _all the time_ in computer animation to help artists design movement.\n",
    "\n",
    "Instead of having an artist specify motion vertex by vertex, we're going to group vertices of the character together, and only specify motion for each of these groups.\n",
    "\n",
    "This is the formula for linear blend skinning, for the 3D position of a single vertex $x$:\n",
    "\n",
    "$$\n",
    "x =  \\sum_{j=0}^{b} w_{j} T_j {x_0}\n",
    "$$\n",
    "\n",
    "Don't worry, this looks complicated, but it's not so bad. Here's what it means:\n",
    "\n",
    "- $x$ is the position of the vertex after it's been moved by the skinning algorithm. This is the desired output.\n",
    "- $x_0$ is the position of the vertex in the rest pose, the one we've been working with so far.\n",
    "- $T_j$ is the j'th affine matrix that specifies some motion.\n",
    "- $w_j$ is the skinning weight , aka, the amount of influence the j-th affine matrix has on the vertex.\n",
    "\n",
    "If you've never seen it before, the $\\sum$ symbol just means \"add up all the terms from $j=0$ to $b$\". So the formula is just saying \"add up all the terms from $j=0$ to $b$\".\n",
    "\n",
    "The idea is that we're going to have a bunch of different affine matrices $T_j$, and a bunch of different skinning weights $w_j$, and we're going to add up all the different motions that each of these matrices specifies, weighted by the skinning weights."
   ],
   "metadata": {
    "collapsed": false
   }
  },
  {
   "cell_type": "code",
   "execution_count": 2,
   "outputs": [],
   "source": [
    "def lbs(X0, W, T):\n",
    "    # Perform linear blend skinning on the mesh X0, with a list of b skinning weights W, and a list of b affine matrices T\n",
    "    b = W.shape[1]\n",
    "    X = np.zeros((X0.shape[0], 3))\n",
    "\n",
    "    ### sum over all affine matrices b, their contributions\n",
    "    for j in range(b):\n",
    "        xd =  W[:, j] * (T[j] @ X0.T)\n",
    "        X += xd.T\n",
    "    return X"
   ],
   "metadata": {
    "collapsed": false
   }
  },
  {
   "cell_type": "code",
   "execution_count": 4,
   "outputs": [],
   "source": [
    "import polyscope as ps\n",
    "import numpy as np\n",
    "from load_rig_anim import load_rig_anim\n",
    "\n",
    "\n",
    "ps.remove_all_groups()\n",
    "ps.remove_all_structures()\n",
    "\n",
    "\n",
    "rig_file = \"./data/michelle/rig.json\"\n",
    "anim_file = \"./data/michelle/anim.json\"\n",
    "\n",
    "\n",
    "[X, F, W, Prel] = load_rig_anim(rig_file, anim_file)\n",
    "\n",
    "X01 = np.hstack((X, np.ones((X.shape[0], 1))))\n",
    "for t in range(Prel.shape[0]):\n",
    "    p = Prel[t, :, :, :]\n",
    "\n",
    "    X = lbs(X01, W, p)\n",
    "\n",
    "    if t == 0:\n",
    "        ps.init()\n",
    "        mesh = ps.register_surface_mesh(\"mesh\", X, F, edge_width=1)\n",
    "        ps.reset_camera_to_home_view()\n",
    "    else:\n",
    "        mesh.update_vertex_positions(X)\n",
    "        ps.frame_tick()\n",
    "    mesh.update_vertex_positions(X)\n",
    "    ps.frame_tick()\n"
   ],
   "metadata": {
    "collapsed": false
   }
  }
 ],
 "metadata": {
  "kernelspec": {
   "display_name": "Python 3 (ipykernel)",
   "language": "python",
   "name": "python3"
  },
  "language_info": {
   "codemirror_mode": {
    "name": "ipython",
    "version": 3
   },
   "file_extension": ".py",
   "mimetype": "text/x-python",
   "name": "python",
   "nbconvert_exporter": "python",
   "pygments_lexer": "ipython3",
   "version": "3.10.13"
  }
 },
 "nbformat": 4,
 "nbformat_minor": 5
}
