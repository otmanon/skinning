{
 "cells": [
  {
   "cell_type": "code",
   "execution_count": null,
   "id": "a32c8657-95ef-4c5a-9cc0-43c59ff902de",
   "metadata": {},
   "outputs": [],
   "source": []
  }
 ],
 "metadata": {
  "kernelspec": {
   "display_name": "",
   "name": ""
  },
  "language_info": {
   "name": ""
  }
 },
 "nbformat": 4,
 "nbformat_minor": 5
}
